{
 "cells": [
  {
   "cell_type": "markdown",
   "id": "cc4fd8ef",
   "metadata": {},
   "source": [
    "# CHIME/FRB VOEvent Handling Tutorial\n",
    "\n",
    "### Andrew V. Zwaniga, on behalf of CHIME/FRB Collaboration\n",
    "\n",
    "\n",
    "### Version 1.1 (September 2021)\n",
    "\n",
    "**Version 1.0**\n",
    "- Detection and subsequent VOEvent handling.\n",
    "\n",
    "**Version 1.1**\n",
    "- Added walkthrough for retraction VOEvent handling.\n",
    "\n",
    "## Table of Contents\n",
    "\n",
    "1. Introduction\n",
    "2. Requirements\n",
    "3. Additional Resources\n",
    "4. Load VOEvent from File\n",
    "5. Get `<VOEvent>` Content\n",
    "6. Get `<Who>` Content\n",
    "7. Get `<What>` Content\n",
    "8. Get `<WhereWhen>` Content\n",
    "- 8.1 Notes on Comparing with `<What>`\n",
    "9. Get `<How>` Content\n",
    "10. Get `<Why>` Content\n",
    "- 10.1 The `importance` of a CHIME/FRB VOEvent\n",
    "- 10.2 The `probability` of a CHIME/FRB VOEvent\n",
    "11. Get `<Citations>` Content\n",
    "12. Conclusion\n",
    "13. Future Work\n",
    "---"
   ]
  },
  {
   "cell_type": "markdown",
   "id": "9483dc0c",
   "metadata": {},
   "source": [
    "## 1. Introduction \n",
    "\n",
    "In this notebook we demonstrate loading and parsing CHIME/FRB VOEvents of the following types: \n",
    "- `detection`\n",
    "- `subsequent`\n",
    "- `retraction`\n",
    "\n",
    "## 2. Requirements\n",
    "\n",
    "- `voeventparse`\n",
    "\n",
    "## 3. Additional Resources\n",
    "\n",
    "- `voeventparse` is a convenience lirbary for parsing VOEvent XML objects and offers a tutorial along with extensive documentation here https://voevent-parse.readthedocs.io/en/latest/tutorial/01-parsing.html\n",
    "- Navigate to https://chime-frb.ca/analysis to find a dedicated VOEvent page with further instructions for getting acquainted with the Service.\n",
    "\n",
    "---"
   ]
  },
  {
   "cell_type": "markdown",
   "id": "82f0012c",
   "metadata": {},
   "source": [
    "## 4. Load VOEvent from File\n",
    "\n",
    "VOEvents can be saved to and read from disk as `.xml` files using `voeventparse`. The result of loading from file is a VOEvent XML object that behaves just like other XML objects that users may be familar with from the `lxml` library."
   ]
  },
  {
   "cell_type": "code",
   "execution_count": 2,
   "id": "5bf18df1",
   "metadata": {},
   "outputs": [],
   "source": [
    "# Import convenience library for parsing VOEvent XMLs\n",
    "import voeventparse as vp\n",
    "\n",
    "filename = \"FRB-DETECTION-2021-08-19-21:50:28.900992UTC+0000_7f17d982b315.xml\"\n",
    "\n",
    "with open(filename, \"rb\") as f:\n",
    "    # Load VOEvent XML from file\n",
    "    voevent = vp.load(f)\n",
    "    # Dump VOEvent XML to a string variable\n",
    "    voevent_string = vp.prettystr(voevent)"
   ]
  },
  {
   "cell_type": "markdown",
   "id": "40928723",
   "metadata": {},
   "source": [
    "---\n",
    "## 5. Get `<VOEvent>` Content\n",
    "\n",
    "The `<VOEvent>` section contains information regarding the XML schema of the document, but most importantly the IVORN of the VOEvent. Of secondary importance is the `role` of the VOEvent, the value of which depends on the type of alert. \n",
    "\n",
    "- `detection` and `subsequent` have `role=\"observation\"`\n",
    "- `update` and `retraction` have `role=\"utility\"`"
   ]
  },
  {
   "cell_type": "code",
   "execution_count": 3,
   "id": "42fce0b5",
   "metadata": {},
   "outputs": [
    {
     "name": "stdout",
     "output_type": "stream",
     "text": [
      "<VOEvent xmlns:xsi=\"http://www.w3.org/2001/XMLSchema-instance\" xsi:schemaLocation=\"http://www.ivoa.net/xml/VOEvent/v2.0 http://www.ivoa.net/xml/VOEvent/VOEvent-v2.0.xsd\" version=\"2.0\" role=\"observation\" ivorn=\"ivo://ca.chimenet.frb/FRB-DETECTION-#2021-08-19-21:50:28.900992UTC+0000_7f17d982b315\">\n",
      "  \n",
      "VOEvent IVORN:\n",
      "--> ivo://ca.chimenet.frb/FRB-DETECTION-#2021-08-19-21:50:28.900992UTC+0000_7f17d982b315\n",
      "\n",
      "VOEvent role:\n",
      "--> observation\n",
      "\n"
     ]
    }
   ],
   "source": [
    "# Get the <VOEvent> section as string\n",
    "voevent_section = voevent_string[\n",
    "    voevent_string.find(\"<VOEvent\"):voevent_string.find(\"<Who>\")\n",
    "]\n",
    "print(voevent_section)\n",
    "\n",
    "# Get the VOEvent IVORN from the <VOEvent> section\n",
    "ivorn = voevent.attrib[\"ivorn\"]\n",
    "print(f\"VOEvent IVORN:\\n--> {ivorn}\\n\")\n",
    "\n",
    "# Get the VOEvent role from the <VOEvent> section\n",
    "role = voevent.attrib[\"role\"]\n",
    "print(f\"VOEvent role:\\n--> {role}\\n\")"
   ]
  },
  {
   "cell_type": "markdown",
   "id": "9acd45be",
   "metadata": {},
   "source": [
    "---\n",
    "## 6. Get `<Who>` Content\n",
    "\n",
    "The `<Who>` section contains identifying features of the agent that published the VOEvent. In this case, it is the CHIME/FRB VOEvent Service, and the main contact plus a valid email address for reaching out with comments or questions is provided.\n",
    "\n",
    "- `AuthorIVORN` is the identifying IVORN of the CHIME/FRB VOEvent Broker\n",
    "- `Date` is the UTC timestamp when the VOEvent was published\n",
    "- `contactEmail` can be reached for comments or questions regarding the VOEvent\n",
    "- `contactName` should be addressed in email communications \n",
    "- `shortName` is the name of the VOEvent agent"
   ]
  },
  {
   "cell_type": "code",
   "execution_count": 4,
   "id": "e738a67c",
   "metadata": {},
   "outputs": [
    {
     "name": "stdout",
     "output_type": "stream",
     "text": [
      "<Who>\n",
      "    <Description>CHIME/FRB VOEvent Service</Description>\n",
      "    <AuthorIVORN>ivo://ca.chimenet.frb/contact</AuthorIVORN>\n",
      "    <Date>2021-08-19T21:50:28+00:00</Date>\n",
      "    <Author>\n",
      "      <contactEmail>andrew.zwaniga@mail.mcgill.ca</contactEmail>\n",
      "      <contactName>Andrew Zwaniga</contactName>\n",
      "      <shortName>CHIME/FRB VOEvent Service</shortName>\n",
      "    </Author>\n",
      "  </Who>\n"
     ]
    }
   ],
   "source": [
    "who_section = voevent_string[\n",
    "    voevent_string.find(\"<Who>\"):voevent_string.find(\"</Who>\") + len(\"</Who>\")\n",
    "]\n",
    "print(who_section)"
   ]
  },
  {
   "cell_type": "code",
   "execution_count": 5,
   "id": "2cc32925",
   "metadata": {},
   "outputs": [
    {
     "name": "stdout",
     "output_type": "stream",
     "text": [
      "Author IVORN:\n",
      "--> ivo://ca.chimenet.frb/contact\n"
     ]
    }
   ],
   "source": [
    "# Get Author IVORN\n",
    "author_ivorn = voevent.Who.AuthorIVORN\n",
    "print(f\"Author IVORN:\\n--> {author_ivorn}\")"
   ]
  },
  {
   "cell_type": "code",
   "execution_count": 6,
   "id": "9b962b73",
   "metadata": {},
   "outputs": [
    {
     "name": "stdout",
     "output_type": "stream",
     "text": [
      "VOEvent was published on:\n",
      "--> 2021-08-19T21:50:28+00:00\n"
     ]
    }
   ],
   "source": [
    "# Get time when VOEvent was published\n",
    "published = voevent.Who.Date\n",
    "print(f\"VOEvent was published on:\\n--> {published}\")"
   ]
  },
  {
   "cell_type": "code",
   "execution_count": 7,
   "id": "7e1b415a",
   "metadata": {},
   "outputs": [
    {
     "name": "stdout",
     "output_type": "stream",
     "text": [
      "Send comments and questions to:\n",
      "--> andrew.zwaniga@mail.mcgill.ca\n",
      "\n",
      "Address comments and questions to:\n",
      "--> Andrew Zwaniga\n",
      "\n",
      "VOEvent was published by:\n",
      "--> CHIME/FRB VOEvent Service\n"
     ]
    }
   ],
   "source": [
    "# Get VOEvent author information\n",
    "contact_email = voevent.Who.Author.contactEmail\n",
    "print(f\"Send comments and questions to:\\n--> {contact_email}\\n\")\n",
    "\n",
    "contact_name = voevent.Who.Author.contactName\n",
    "print(f\"Address comments and questions to:\\n--> {contact_name}\\n\")\n",
    "\n",
    "short_name = voevent.Who.Author.shortName\n",
    "print(f\"VOEvent was published by:\\n--> {short_name}\")"
   ]
  },
  {
   "cell_type": "markdown",
   "id": "642b6280",
   "metadata": {},
   "source": [
    "---\n",
    "## 7. Get `<What>` Content\n",
    "\n",
    "The `<What>` section contains the most scientifically and observationally important meta data. Meta data is organized into three `<Group>`s as `<Param>`s:\n",
    "- `observatory parameters` for all CHIME telescope and FRB instrument specifics\n",
    "- `event parameters` for all FRB event measurements\n",
    "- `advanced parameters` for meta data that may be relevant to user-defined triggering criteria or follow-up analysis\n",
    "\n",
    "Each `<Param>` has up to four attributes:\n",
    "- `name` is the name for the parameter\n",
    "- `value` is a `float` or `int` numerical quantity, or `str` word or phrase\n",
    "- `unit` is a `str` word representing the SI unit of the `value`\n",
    "- `ucd` is a `str` word following the IVOA standard for Unified Content Descriptors (UCDs)\n"
   ]
  },
  {
   "cell_type": "code",
   "execution_count": 8,
   "id": "a40e66f4",
   "metadata": {
    "scrolled": true
   },
   "outputs": [
    {
     "name": "stdout",
     "output_type": "stream",
     "text": [
      "<What>\n",
      "    <Group name=\"observatory parameters\">\n",
      "      <Param ucd=\"time.resolution\" unit=\"ms\" value=\"0.983\" name=\"sampling_time\">\n",
      "        <Description>FRB search time resolution</Description>\n",
      "      </Param>\n",
      "      <Param ucd=\"instr.bandwidth\" unit=\"MHz\" value=\"400\" name=\"bandwidth\">\n",
      "        <Description>CHIME telescope bandwidth</Description>\n",
      "      </Param>\n",
      "      <Param ucd=\"em.freq;instr\" unit=\"MHz\" value=\"600\" name=\"centre_frequency\">\n",
      "        <Description>CHIME telescope central frequency</Description>\n",
      "      </Param>\n",
      "      <Param ucd=\"\" unit=\"\" value=\"2\" name=\"npol\">\n",
      "        <Description>The CHIME telescope has dual-polarization feeds</Description>\n",
      "      </Param>\n",
      "      <Param ucd=\"\" unit=\"\" value=\"8\" name=\"bits_per_sample\">\n",
      "        <Description>CHIME/FRB samples 16384 frequency channels at 0.983 ms cadence as 8-bit integers</Description>\n",
      "      </Param>\n",
      "      <Param ucd=\"phot.antennaTemp\" unit=\"K\" value=\"50\" name=\"tsys\">\n",
      "        <Description>CHIME receiver noise temperature</Description>\n",
      "      </Param>\n",
      "      <Param ucd=\"\" unit=\"\" value=\"\" name=\"backend\">\n",
      "        <Description>CHIME/FRB backend</Description>\n",
      "      </Param>\n",
      "    </Group>\n",
      "    <Group name=\"event parameters\">\n",
      "      <Param ucd=\"\" unit=\"\" value=\"181344768\" name=\"event_no\">\n",
      "        <Description>CHIME/FRB event number assigned by real-time pipeline</Description>\n",
      "      </Param>\n",
      "      <Param ucd=\"\" unit=\"\" value=\"\" name=\"known_source_name\">\n",
      "        <Description>CHIME/FRB internal known source name</Description>\n",
      "      </Param>\n",
      "      <Param ucd=\"\" unit=\"\" value=\"EXTRAGALACTIC\" name=\"event_type\">\n",
      "        <Description>Unknown event type assigned from real-time pipeline e.g. EXTRAGALACTIC, AMBIGUOUS, GALACTIC</Description>\n",
      "      </Param>\n",
      "      <Param ucd=\"\" unit=\"\" value=\"real-time\" name=\"pipeline_name\">\n",
      "        <Description>The name of the pipeline that produced this data</Description>\n",
      "      </Param>\n",
      "      <Param ucd=\"phys.dispMeasure\" unit=\"pc/cm^3\" value=\"1\" name=\"dm\">\n",
      "        <Description>Dispersion measure from real-time pipeline</Description>\n",
      "      </Param>\n",
      "      <Param ucd=\"stat.error;phys.dispMeasure\" unit=\"pc/cm^3\" value=\"0.40439999103546104\" name=\"dm_error\">\n",
      "        <Description>Error in dispersion measure from real-time pipeline</Description>\n",
      "      </Param>\n",
      "      <Param ucd=\"\" unit=\"\" value=\"2021-08-19 21:50:28.900992+00:00\" name=\"timestamp_utc\">\n",
      "        <Description>Topocentric arrival time at 400 MHz</Description>\n",
      "      </Param>\n",
      "      <Param ucd=\"\" unit=\"\" value=\"0.007864319719374001\" name=\"timestamp_utc_error\">\n",
      "        <Description>Error in topocentric arrival time at 400 MHz in seconds from real-time pipeline</Description>\n",
      "      </Param>\n",
      "      <Param ucd=\"stat.snr\" unit=\"\" value=\"124.84750366210938\" name=\"snr\">\n",
      "        <Description>Signal-to-noise ratio from real-time pipeline</Description>\n",
      "      </Param>\n",
      "      <Param ucd=\"\" unit=\"degrees\" value=\"0.0721\" name=\"pos_error_semiminor_deg_95\">\n",
      "        <Description>Localization error ellipse semi-minor axis to 95 percent C.L. in right ascension (J2000) in degrees from real-time pipeline</Description>\n",
      "      </Param>\n",
      "      <Param ucd=\"\" unit=\"degrees\" value=\"0.11850000000000001\" name=\"pos_error_semimajor_deg_95\">\n",
      "        <Description>Localization error ellipse semi-major axis to 95 percent C.L. in declination (J2000) in degrees from real-time pipeline</Description>\n",
      "      </Param>\n",
      "    </Group>\n",
      "    <Group name=\"advanced parameters\">\n",
      "      <Param ucd=\"\" unit=\"pc/cm^3\" value=\"20.1343\" name=\"dm_gal_ne_2001_max\">\n",
      "        <Description>Max Milky Way DM contribution (NE 2001 model) from real-time pipeline</Description>\n",
      "      </Param>\n",
      "      <Param ucd=\"\" unit=\"pc/cm^3\" value=\"16.1522\" name=\"dm_gal_ymw_2016_max\">\n",
      "        <Description>Max Milky Way DM contribution (YMW 2016 model) from real-time pipeline</Description>\n",
      "      </Param>\n",
      "      <Param ucd=\"\" unit=\"\" value=\"2021-08-19 21:50:19.515229+00:00\" name=\"timestamp_utc_inf_freq\">\n",
      "        <Description>Topocentric arrival time at infinite frequency</Description>\n",
      "      </Param>\n",
      "      <Param ucd=\"\" unit=\"\" value=\"0.013108633183509667\" name=\"timestamp_utc_inf_freq_error\">\n",
      "        <Description>Error in topocentric arrival time at infinite frequency from real-time pipeline</Description>\n",
      "      </Param>\n",
      "      <Param ucd=\"\" unit=\"\" value=\"0.0\" name=\"spectral_index\">\n",
      "        <Description>Spectral index as measured by real-time pipeline</Description>\n",
      "      </Param>\n",
      "      <Param ucd=\"\" unit=\"\" value=\"4.0\" name=\"spectral_index_error\">\n",
      "        <Description>Error in spectral index as measured by real-time pipeline</Description>\n",
      "      </Param>\n",
      "    </Group>\n",
      "  </What>\n"
     ]
    }
   ],
   "source": [
    "# Print the entire <What> section to standard output\n",
    "\n",
    "what_section = voevent_string[\n",
    "    voevent_string.find(\"<What>\"):voevent_string.find(\"</What>\") + len(\"</What>\")\n",
    "]\n",
    "print(what_section)"
   ]
  },
  {
   "cell_type": "code",
   "execution_count": 9,
   "id": "1b5205d4",
   "metadata": {},
   "outputs": [
    {
     "name": "stdout",
     "output_type": "stream",
     "text": [
      "\n",
      "<Group> = \"observatory parameters\"\n",
      "----------------------------------\n",
      "<Param> name = \"sampling_time\"\n",
      "<Param> name = \"bandwidth\"\n",
      "<Param> name = \"centre_frequency\"\n",
      "<Param> name = \"npol\"\n",
      "<Param> name = \"bits_per_sample\"\n",
      "<Param> name = \"tsys\"\n",
      "<Param> name = \"backend\"\n",
      "\n",
      "<Group> = \"event parameters\"\n",
      "----------------------------\n",
      "<Param> name = \"event_no\"\n",
      "<Param> name = \"known_source_name\"\n",
      "<Param> name = \"event_type\"\n",
      "<Param> name = \"pipeline_name\"\n",
      "<Param> name = \"dm\"\n",
      "<Param> name = \"dm_error\"\n",
      "<Param> name = \"timestamp_utc\"\n",
      "<Param> name = \"timestamp_utc_error\"\n",
      "<Param> name = \"snr\"\n",
      "<Param> name = \"pos_error_semiminor_deg_95\"\n",
      "<Param> name = \"pos_error_semimajor_deg_95\"\n",
      "\n",
      "<Group> = \"advanced parameters\"\n",
      "-------------------------------\n",
      "<Param> name = \"dm_gal_ne_2001_max\"\n",
      "<Param> name = \"dm_gal_ymw_2016_max\"\n",
      "<Param> name = \"timestamp_utc_inf_freq\"\n",
      "<Param> name = \"timestamp_utc_inf_freq_error\"\n",
      "<Param> name = \"spectral_index\"\n",
      "<Param> name = \"spectral_index_error\"\n"
     ]
    }
   ],
   "source": [
    "# Get all <Param> in <What> grouped by their <Group> using convenience method\n",
    "groups = vp.get_grouped_params(voevent)\n",
    "\n",
    "# Print name of group and param for user to select from\n",
    "for group in groups:\n",
    "    header = f'<Group> = \"{group}\"'\n",
    "    print(\"\\n\" + header + \"\\n\" + \"-\"*len(header))\n",
    "    for param in groups[group]:\n",
    "        print(f'<Param> name = \"{param}\"')"
   ]
  },
  {
   "cell_type": "code",
   "execution_count": 10,
   "id": "3bc49b65",
   "metadata": {},
   "outputs": [],
   "source": [
    " def get_description(voevent, name):\n",
    "    \"\"\"\n",
    "    Get the <Description> attribute of a <Param>. \n",
    "    \n",
    "    Search for parameter by its ``name``, in the <Groups>\n",
    "    under the <What> section.\n",
    "    \"\"\"\n",
    "    for i in range(len(voevent.What.Group)):\n",
    "        # Iterate over groups\n",
    "        g = voevent.What.Group[i]\n",
    "        for j in range(len(g.Param)):\n",
    "            # Iterate over params in this group\n",
    "            p = g.Param[j]\n",
    "            if str(p.attrib.get(\"name\")) == name:\n",
    "                try:\n",
    "                    return str(p.Description)\n",
    "                except Exception:\n",
    "                    return None"
   ]
  },
  {
   "cell_type": "code",
   "execution_count": 11,
   "id": "68651c24",
   "metadata": {},
   "outputs": [
    {
     "name": "stdout",
     "output_type": "stream",
     "text": [
      "Select <Group> by name: \n",
      "Unknown group name: \n",
      "Options: ['observatory parameters', 'event parameters', 'advanced parameters'].\n",
      "Try again!\n",
      "Select <Group> by name: \n",
      "Unknown group name: \n",
      "Options: ['observatory parameters', 'event parameters', 'advanced parameters'].\n",
      "Try again!\n",
      "Select <Group> by name: \n",
      "Unknown group name: \n",
      "Options: ['observatory parameters', 'event parameters', 'advanced parameters'].\n",
      "Try again!\n",
      "Select <Group> by name: \n",
      "Unknown group name: \n",
      "Options: ['observatory parameters', 'event parameters', 'advanced parameters'].\n",
      "Try again!\n",
      "Select <Group> by name: \n",
      "Unknown group name: \n",
      "Options: ['observatory parameters', 'event parameters', 'advanced parameters'].\n",
      "Try again!\n",
      "Select <Group> by name: \n",
      "Unknown group name: \n",
      "Options: ['observatory parameters', 'event parameters', 'advanced parameters'].\n",
      "Try again!\n",
      "Select <Group> by name: \n",
      "Unknown group name: \n",
      "Options: ['observatory parameters', 'event parameters', 'advanced parameters'].\n",
      "Try again!\n",
      "Select <Group> by name: \n",
      "Unknown group name: \n",
      "Options: ['observatory parameters', 'event parameters', 'advanced parameters'].\n",
      "Try again!\n",
      "Select <Group> by name: \n",
      "Unknown group name: \n",
      "Options: ['observatory parameters', 'event parameters', 'advanced parameters'].\n",
      "Try again!\n",
      "Select <Group> by name: \n",
      "Unknown group name: \n",
      "Options: ['observatory parameters', 'event parameters', 'advanced parameters'].\n",
      "Try again!\n",
      "Select <Group> by name: \n",
      "Unknown group name: \n",
      "Options: ['observatory parameters', 'event parameters', 'advanced parameters'].\n",
      "Try again!\n",
      "Select <Group> by name: event parameters\n",
      "Select <Param> by name: dm\n",
      "\n",
      "<Param> with name = 'dm'\n",
      "------------------------\n",
      "value = \"1\"\n",
      "unit = \"pc/cm^3\"\n",
      "ucd = \"phys.dispMeasure\"\n",
      "<Description> = \"Dispersion measure from real-time pipeline\"\n",
      "\n",
      "<Enter>: Continue\n",
      "<AnyKey> + <Enter>: Quit\n",
      "\n",
      "Select <Group> by name: event parameters\n",
      "Select <Param> by name: snr\n",
      "\n",
      "<Param> with name = 'snr'\n",
      "-------------------------\n",
      "value = \"124.84750366210938\"\n",
      "unit = \"\"\n",
      "ucd = \"stat.snr\"\n",
      "<Description> = \"Signal-to-noise ratio from real-time pipeline\"\n",
      "\n",
      "<Enter>: Continue\n",
      "<AnyKey> + <Enter>: Quit\n",
      "d\n"
     ]
    }
   ],
   "source": [
    "# Interactive session: user chooses a <Param> to see its details\n",
    "\n",
    "looping = True\n",
    "while looping:\n",
    "    try:\n",
    "        # User selects <Group>\n",
    "        select_group = input(\"Select <Group> by name: \")\n",
    "        assert select_group in groups, f\"Unknown group name: {select_group}\\nOptions: {[_ for _ in groups]}\"\n",
    "\n",
    "        # User selects <Param>\n",
    "        select_param = input(\"Select <Param> by name: \")\n",
    "        assert select_param in groups[select_group], f\"Unknown param name: {select_param}\\nOptions: {[_ for _ in groups[select_group]]}\"\n",
    "    \n",
    "        header = f\"<Param> with name = '{select_param}'\" \n",
    "        print(\"\\n\" + header + \"\\n\" + \"-\"*len(header))\n",
    "    \n",
    "        details = groups[select_group][select_param]\n",
    "        value = details[\"value\"]\n",
    "        unit = details[\"unit\"]\n",
    "        ucd = details[\"ucd\"]\n",
    "        description = get_description(voevent, select_param)\n",
    "    \n",
    "        print(f'value = \"{value}\"')\n",
    "        print(f'unit = \"{unit}\"')\n",
    "        print(f'ucd = \"{ucd}\"')\n",
    "        print(f'<Description> = \"{description}\"')\n",
    "    \n",
    "        looping = (input(\"\\n<Enter>: Continue\\n<AnyKey> + <Enter>: Quit\\n\")) == \"\"\n",
    "    except Exception as e:\n",
    "        print(f\"{e}.\\nTry again!\")\n",
    "        continue"
   ]
  },
  {
   "cell_type": "markdown",
   "id": "d210824e",
   "metadata": {},
   "source": [
    "---\n",
    "## 8. Get `<WhereWhen>` Content\n",
    "\n",
    "The `<WhereWhen>` section specifically reports the coordinates and their uncertainties (together giving the on-sky localization region) in a more elaborate format than is used for `<What>`.\n",
    "\n",
    "For CHIME/FRB VOEvents, the right ascension (RA) and declination (Dec) are reported along with the real-time localization region, the UTC time of detection, and the astronomical coordinate system. This region is calculated during the L2-L3 stage of the real-time FRB pipeline, where it is represented as an on-sky ellipse in (RA, dec) coordinates. In the VOEvent `<WhereWhen>`, however, only the maximum of the semi-minor and semi-major axes of said ellipse are reported. (Note that both axes are reported in `<What>` for convenience, as shown below.)\n",
    "\n",
    "That is, the on-sky localization is given by: \n",
    "- right ascension (RA)\n",
    "- declination (Dec)\n",
    "- maximum of the real-time elliptical semi-minor (`pos_error_semiminor_deg_95`) and semi-major (`pos_error_semimajor_deg_95`)\n",
    "- the UTC timestamp, **corrected** for dispersion down to the bottom of the CHIME band (400 MHz)\n",
    "- the astronomical coordinate system, UTC-FK5-TOPO\n",
    "\n",
    "This localization region represents the **95%** confidence region. For more details of the localization robustness, please see (**ARXIV LINK**) for a discussion of calibration with the technique of pulsar analogues.\n",
    "\n",
    "### 8.1 Notes on Comparing with `<What>`\n",
    "\n",
    "(1) The `<ISOTime>` reported in `<WhereWhen>` is equivalent to the `timestamp_utc` given as a `<Param>` in `<What>`.\n",
    "(2) The `<Error2Radius>` is equivalent to `max(pos_error_semiminor_deg_95, pos_error_semimajor_deg_95)`."
   ]
  },
  {
   "cell_type": "code",
   "execution_count": 12,
   "id": "1820b299",
   "metadata": {},
   "outputs": [
    {
     "name": "stdout",
     "output_type": "stream",
     "text": [
      "<WhereWhen>\n",
      "    <ObsDataLocation>\n",
      "      <ObservatoryLocation id=\"CHIME lives at Dominion Radio Astrophysical Observatory (DRAO)\"/>\n",
      "      <ObservationLocation>\n",
      "        <AstroCoordSystem id=\"UTC-FK5-TOPO\"/>\n",
      "        <AstroCoords coord_system_id=\"UTC-FK5-TOPO\">\n",
      "          <Time unit=\"s\">\n",
      "            <TimeInstant>\n",
      "              <ISOTime>2021-08-19T21:50:28.900992</ISOTime>\n",
      "            </TimeInstant>\n",
      "          </Time>\n",
      "          <Position2D unit=\"deg\">\n",
      "            <Name1>RA</Name1>\n",
      "            <Name2>Dec</Name2>\n",
      "            <Value2>\n",
      "              <C1>0</C1>\n",
      "              <C2>0</C2>\n",
      "            </Value2>\n",
      "            <Error2Radius>0.11850000000000001</Error2Radius>\n",
      "          </Position2D>\n",
      "        </AstroCoords>\n",
      "      </ObservationLocation>\n",
      "    </ObsDataLocation>\n",
      "  </WhereWhen>\n"
     ]
    }
   ],
   "source": [
    "# Print the entire <WhereWhen> section to standard output\n",
    "\n",
    "wherewhen_section = voevent_string[\n",
    "    voevent_string.find(\"<WhereWhen>\"):voevent_string.find(\"</WhereWhen>\") + len(\"</WhereWhen>\")\n",
    "]\n",
    "print(wherewhen_section)"
   ]
  },
  {
   "cell_type": "code",
   "execution_count": 13,
   "id": "129f557c",
   "metadata": {},
   "outputs": [],
   "source": [
    "def get_wherewhen(voevent):\n",
    "    \"\"\"\n",
    "    Return the localization region of a CHIME/FRB VOEvent.\n",
    "    \n",
    "    Print the result to the screen and return as a tuple\n",
    "    with format (RA, Dec, error_radius).\n",
    "    \"\"\"\n",
    "    # The structure of this section contains many nested layers\n",
    "    \n",
    "    # Get the coordinates layer\n",
    "    astro_coords = voevent.WhereWhen.ObsDataLocation.ObservationLocation.AstroCoords\n",
    "    \n",
    "    # Get the coordinate system\n",
    "    system = astro_coords.attrib[\"coord_system_id\"]\n",
    "    \n",
    "    # Get the detection timestamp\n",
    "    timestamp_utc = astro_coords.Time.TimeInstant.ISOTime\n",
    "    \n",
    "    # Get the sky position\n",
    "    position2d = astro_coords.Position2D\n",
    "    \n",
    "    # Note: RA is always the C1 value\n",
    "    ra = position2d.Value2.C1\n",
    "    \n",
    "    # Note: Dec is always the C2 value\n",
    "    dec = position2d.Value2.C2\n",
    "    \n",
    "    # Get the uncertainty/error/localization region\n",
    "    error_radius = position2d.Error2Radius\n",
    "    \n",
    "    # Format as a tuple\n",
    "    region = (ra, dec, error_radius)\n",
    "    \n",
    "    print(f\"Sky location:\\n--> (RA, dec) = ({ra}, {dec}) +/- {error_radius}\\n\")\n",
    "    print(f\"Detection time [UTC]:\\n--> {timestamp_utc}\\n\")\n",
    "    print(f\"Astronomical coordinate system:\\n--> {system}\\n\")\n",
    "    return region, timestamp_utc, system"
   ]
  },
  {
   "cell_type": "code",
   "execution_count": 14,
   "id": "8cfa4a43",
   "metadata": {},
   "outputs": [
    {
     "name": "stdout",
     "output_type": "stream",
     "text": [
      "Sky location:\n",
      "--> (RA, dec) = (0, 0) +/- 0.11850000000000001\n",
      "\n",
      "Detection time [UTC]:\n",
      "--> 2021-08-19T21:50:28.900992\n",
      "\n",
      "Astronomical coordinate system:\n",
      "--> UTC-FK5-TOPO\n",
      "\n"
     ]
    },
    {
     "data": {
      "text/plain": [
       "((0, 0, 0.11850000000000001), '2021-08-19T21:50:28.900992', 'UTC-FK5-TOPO')"
      ]
     },
     "execution_count": 14,
     "metadata": {},
     "output_type": "execute_result"
    }
   ],
   "source": [
    "get_wherewhen(voevent)"
   ]
  },
  {
   "cell_type": "markdown",
   "id": "636eb82e",
   "metadata": {},
   "source": [
    "---\n",
    "## 9. Get `<How>` Content\n",
    "\n",
    "The `<How>` section is only lightly used in CHIME/FRB VOEvents, in which one can find a link to the CHIME/FRB public webpage.\n",
    "\n",
    "Some VOEvent authors (aLIGO/Virgo, for example) include links (URLs, URIs) to analysis products that can be accesses or downloaded upon receipt of the VOEvent. In the future, it is likely that users of the Service will be able to do the same with certain analysis products from CHIME/FRB."
   ]
  },
  {
   "cell_type": "code",
   "execution_count": 15,
   "id": "d0dcb5c4",
   "metadata": {},
   "outputs": [
    {
     "name": "stdout",
     "output_type": "stream",
     "text": [
      "<How>\n",
      "    <Description>Real-time pipeline topocentric time-of-arrival is corrected for dispersion to bottom of CHIME band (400 MHz)</Description>\n",
      "    <Reference uri=\"https://www.chime-frb.ca\"/>\n",
      "  </How>\n"
     ]
    }
   ],
   "source": [
    "# Print the entire <How> section to standard output\n",
    "\n",
    "how_section = voevent_string[\n",
    "    voevent_string.find(\"<How>\"):voevent_string.find(\"</How>\") + len(\"</How>\")\n",
    "]\n",
    "print(how_section)"
   ]
  },
  {
   "cell_type": "code",
   "execution_count": 16,
   "id": "13357da5",
   "metadata": {},
   "outputs": [
    {
     "name": "stdout",
     "output_type": "stream",
     "text": [
      "The CHIME/FRB public webpage:\n",
      "--> https://www.chime-frb.ca\n"
     ]
    }
   ],
   "source": [
    "# Get the public webpage URL\n",
    "public_webpage = voevent.How.Reference.attrib[\"uri\"]\n",
    "print(f\"The CHIME/FRB public webpage:\\n--> {public_webpage}\")"
   ]
  },
  {
   "cell_type": "markdown",
   "id": "997bda27",
   "metadata": {},
   "source": [
    "---\n",
    "## 10. Get `<Why>` Content\n",
    "\n",
    "Here we will instead work with a `subsequent` CHIME/FRB VOEvent to demonstrate details of the `<Why>` section that are not used in `detection` VOEvents."
   ]
  },
  {
   "cell_type": "code",
   "execution_count": 17,
   "id": "12b13e5f",
   "metadata": {},
   "outputs": [
    {
     "name": "stdout",
     "output_type": "stream",
     "text": [
      "<Why importance=\"0.9880000000000001\">\n",
      "    <Inference probability=\"0.9998999834060661\" relation=\"Known source association probability\">\n",
      "      <Name>60792403</Name>\n",
      "      <Concept>The probability is a measure of known source association derived from Bayes factor of known sources in (DM, sky-position) space</Concept>\n",
      "    </Inference>\n",
      "    <Description>CHIME/FRB VOEvent Service subsequent-type alert from real-time pipeline</Description>\n",
      "    <Name>60792403</Name>\n",
      "    <Concept>Importance is a machine learning score from 0-1 separating RFI (0) from an astrophysical signal (1); Probability is a measure of known source association probability</Concept>\n",
      "  </Why>\n"
     ]
    }
   ],
   "source": [
    "# Load the subsequent VOEvent\n",
    "sub_filename = \"FRB-SUBSEQUENT-2021-08-22-23:16:06.571791UTC+0000_f4a33adeaa19.xml\"\n",
    "\n",
    "with open(sub_filename, \"rb\") as f:\n",
    "    # Load VOEvent XML from file\n",
    "    sub_voevent = vp.load(f)\n",
    "    # Dump VOEvent XML to a string variable\n",
    "    sub_voevent_string = vp.prettystr(sub_voevent)\n",
    "\n",
    "# Print the entire <Why> section to standard output\n",
    "\n",
    "why_section = sub_voevent_string[\n",
    "    sub_voevent_string.find(\"<Why\"):sub_voevent_string.find(\"</Why>\") + len(\"</Why>\")\n",
    "]\n",
    "print(why_section)"
   ]
  },
  {
   "cell_type": "markdown",
   "id": "3b68622e",
   "metadata": {},
   "source": [
    "### 10.1 The `importance` of a CHIME/FRB VOEvent\n",
    "\n",
    "Every CHIME/FRB VOEvent comes with a measure of its `importance` as reported in the `<Why>` section. This `importance` value is a machine learning score generated by a classifier that is trained to distinguish two classes using the real-time meta data available at the L2-L3 stage. The score is a real number scaled from 0 to 1, with 0 indicating a \"certain\" `RFI` event and 10 indicating a \"certain\" `Astrophysical` event.\n",
    "\n",
    "Under normal circumstances, the classifier is trained with a training data set that consists of CHIME/FRB events marked as either `RFI` (0) or `Astrophysical` (10). The output of the classifier during operation is then scaled as a gradient across the decision boundary between these two classes, allowing for a real-valued score between 0 and 10. The training data is prepared by a combination of (1) human labelling and (2) automated labelling (followed up with human correction) using the previous release of the classifier. Finally, the score reported in the VOEvent is scaled down to [0, 1] from [0, 10].\n",
    "\n",
    "These details are summarized in the `<Concept>` field that comes with the `<Why>` section."
   ]
  },
  {
   "cell_type": "code",
   "execution_count": 18,
   "id": "eb32a213",
   "metadata": {},
   "outputs": [
    {
     "name": "stdout",
     "output_type": "stream",
     "text": [
      "Importance value is:\n",
      "--> 0.9880000000000001\n"
     ]
    }
   ],
   "source": [
    "# Get the importance value\n",
    "importance = sub_voevent.Why.attrib[\"importance\"]\n",
    "print(f\"Importance value is:\\n--> {importance}\")"
   ]
  },
  {
   "cell_type": "markdown",
   "id": "6ae493e4",
   "metadata": {},
   "source": [
    "### 10.2 The `probability` of a CHIME/FRB VOEvent"
   ]
  },
  {
   "cell_type": "code",
   "execution_count": 19,
   "id": "ad5e4a2d",
   "metadata": {},
   "outputs": [
    {
     "name": "stdout",
     "output_type": "stream",
     "text": [
      "Probability of association with source named '60792403' is 0.9998999834060661.\n",
      "The probability is a measure of known source association derived from Bayes factor of known sources in (DM, sky-position) space.\n"
     ]
    }
   ],
   "source": [
    "# Get the known source name\n",
    "known_source_name = vp.get_grouped_params(sub_voevent)[\"event parameters\"][\"known_source_name\"][\"value\"]\n",
    "\n",
    "# Get the probability value\n",
    "probability = sub_voevent.Why.Inference.attrib[\"probability\"]\n",
    "print(f\"Probability of association with source named '{known_source_name}' is {probability}.\")\n",
    "\n",
    "# Get a description of the importance and probability value\n",
    "concept = sub_voevent.Why.Inference.Concept\n",
    "print(f\"{concept}.\")"
   ]
  },
  {
   "cell_type": "markdown",
   "id": "52e8de65",
   "metadata": {},
   "source": [
    "---\n",
    "\n",
    "## 11. Get `<Citations>` Content\n",
    "\n",
    "Here we again work with the `subsequent` VOEvent. Citations refer to previous VOEvents by their IVORN. The CHIME/FRB VOEvent Service publishes `subsequent` VOEvents with citations to the last known `detection` VOEvent for that source, if it exists. Because some repeating FRBs were identified prior to the deployment of the Service, not all `subsequent` VOEvents can refer in this way.\n",
    "\n",
    "In this section is the IVORN to be cited, as described above, and a flag to indicate why the citation is made. For `subsequent` VOEvents, this will always be `followup`, to indicate that the VOEvent represent an observation of a previously known FRB."
   ]
  },
  {
   "cell_type": "code",
   "execution_count": 20,
   "id": "14b4d349",
   "metadata": {},
   "outputs": [
    {
     "name": "stdout",
     "output_type": "stream",
     "text": [
      "<Citations>\n",
      "    <EventIVORN cite=\"followup\"/>\n",
      "  </Citations>\n"
     ]
    }
   ],
   "source": [
    "# Print the entire <Citations> section to standard output\n",
    "\n",
    "citations_section = sub_voevent_string[\n",
    "    sub_voevent_string.find(\"<Citations\"):sub_voevent_string.find(\"</Citations>\") + len(\"</Citations>\")\n",
    "]\n",
    "print(citations_section)"
   ]
  },
  {
   "cell_type": "code",
   "execution_count": 21,
   "id": "8be0b6b5",
   "metadata": {},
   "outputs": [
    {
     "name": "stdout",
     "output_type": "stream",
     "text": [
      "Citation IVORN:\n",
      "--> \n",
      "\n",
      "Citation explanation:\n",
      "--> followup\n",
      "\n"
     ]
    }
   ],
   "source": [
    "# Get the citation ivorn\n",
    "citation_ivorn = sub_voevent.Citations.EventIVORN\n",
    "print(f\"Citation IVORN:\\n--> {citation_ivorn}\\n\")\n",
    "\n",
    "# Get the citation explanation\n",
    "explanation = sub_voevent.Citations.EventIVORN.attrib[\"cite\"]\n",
    "print(f\"Citation explanation:\\n--> {explanation}\\n\")"
   ]
  },
  {
   "cell_type": "markdown",
   "id": "56d5a2de",
   "metadata": {},
   "source": [
    "---\n",
    "## 12.  Retraction VOEvents\n",
    "\n",
    "Detection and subsequent VOEvents may be retracted through a retraction VOEvent. In this special kind of VOEvent, the spatial and temporal coordinates of the event are referenced in the retraction, as well as the VOEvent IVORN."
   ]
  },
  {
   "cell_type": "code",
   "execution_count": 27,
   "id": "268da74a",
   "metadata": {},
   "outputs": [],
   "source": [
    "filename = \"OBS-RETRACTION-2021-09-07-09:49:11.821703UTC+0000_65550c2c8d65.xml\"\n",
    "\n",
    "with open(filename, \"rb\") as f:\n",
    "    # Load VOEvent XML from file\n",
    "    ret_voevent = vp.load(f)\n",
    "    # Dump VOEvent XML to a string variable\n",
    "    ret_voevent_string = vp.prettystr(voevent)"
   ]
  },
  {
   "cell_type": "markdown",
   "id": "bf2eea1d",
   "metadata": {},
   "source": [
    "### 12.1 Coordinates of the Retracted VOEvent\n",
    "\n",
    "The same method as used above on the detection and subsequent VOEvents will work here. **Note** that these coordinates correspond to the FRB that is being retracted."
   ]
  },
  {
   "cell_type": "code",
   "execution_count": 28,
   "id": "16f721db",
   "metadata": {},
   "outputs": [
    {
     "name": "stdout",
     "output_type": "stream",
     "text": [
      "Sky location:\n",
      "--> (RA, dec) = (0, 0) +/- 0\n",
      "\n",
      "Detection time [UTC]:\n",
      "--> 2021-09-07T09:49:11.821703\n",
      "\n",
      "Astronomical coordinate system:\n",
      "--> UTC-FK5-TOPO\n",
      "\n"
     ]
    },
    {
     "data": {
      "text/plain": [
       "((0, 0, 0), '2021-09-07T09:49:11.821703', 'UTC-FK5-TOPO')"
      ]
     },
     "execution_count": 28,
     "metadata": {},
     "output_type": "execute_result"
    }
   ],
   "source": [
    "get_wherewhen(ret_voevent)"
   ]
  },
  {
   "cell_type": "markdown",
   "id": "abbd75ba",
   "metadata": {},
   "source": [
    "### 12.2 IVORN of the Retracted VOEvent\n",
    "\n",
    "Here we compare the IVORN of (A) the retract**ion** VOEvent, and show how it differs from (B) the IVORN of the retract**ed** VOEvent. In (A), the IVORN is found in the usual place, the `<VOEvent>` section. In (B) the IVORN is found in the (also usual) place, the `<Citations>` section. \n",
    "\n",
    "**Note** that all retraction VOEvents have an IVORN that uses the `OBS` keyword rather than `FRB`, and the role is set to `\"utility\"` rather than `\"observation\"`."
   ]
  },
  {
   "cell_type": "code",
   "execution_count": 29,
   "id": "54914617",
   "metadata": {},
   "outputs": [
    {
     "name": "stdout",
     "output_type": "stream",
     "text": [
      "<VOEvent xmlns:xsi=\"http://www.w3.org/2001/XMLSchema-instance\" xsi:schemaLocation=\"http://www.ivoa.net/xml/VOEvent/v2.0 http://www.ivoa.net/xml/VOEvent/VOEvent-v2.0.xsd\" version=\"2.0\" role=\"utility\" ivorn=\"ivo://ca.chimenet.frb/OBS-RETRACTION-#2021-09-07-09:49:11.821703UTC+0000_65550c2c8d65\">\n",
      "  \n",
      "VOEvent IVORN:\n",
      "--> ivo://ca.chimenet.frb/OBS-RETRACTION-#2021-09-07-09:49:11.821703UTC+0000_65550c2c8d65\n",
      "\n",
      "VOEvent role:\n",
      "--> utility\n",
      "\n"
     ]
    }
   ],
   "source": [
    "# Get the <VOEvent> section as string\n",
    "ret_voevent_section = ret_voevent_string[\n",
    "    ret_voevent_string.find(\"<VOEvent\"):ret_voevent_string.find(\"<Who>\")\n",
    "]\n",
    "print(ret_voevent_section)\n",
    "\n",
    "# Get the VOEvent IVORN from the <VOEvent> section\n",
    "ivorn = ret_voevent.attrib[\"ivorn\"]\n",
    "print(f\"VOEvent IVORN:\\n--> {ivorn}\\n\")\n",
    "\n",
    "# Get the VOEvent role from the <VOEvent> section\n",
    "role = ret_voevent.attrib[\"role\"]\n",
    "print(f\"VOEvent role:\\n--> {role}\\n\")"
   ]
  },
  {
   "cell_type": "code",
   "execution_count": 30,
   "id": "d4d05630",
   "metadata": {},
   "outputs": [
    {
     "name": "stdout",
     "output_type": "stream",
     "text": [
      "Citation IVORN:\n",
      "--> ivo://ca.chimenet.frb/FRB-DETECTION-#2021-09-07-09:48:59.922483UTC+0000_daa68ff4aeaf\n",
      "\n",
      "Citation explanation:\n",
      "--> retraction\n",
      "\n"
     ]
    }
   ],
   "source": [
    "# Get the citation ivorn\n",
    "citation_ivorn = ret_voevent.Citations.EventIVORN\n",
    "print(f\"Citation IVORN:\\n--> {citation_ivorn}\\n\")\n",
    "\n",
    "# Get the citation explanation\n",
    "explanation = ret_voevent.Citations.EventIVORN.attrib[\"cite\"]\n",
    "print(f\"Citation explanation:\\n--> {explanation}\\n\")"
   ]
  },
  {
   "cell_type": "markdown",
   "id": "86851b09",
   "metadata": {},
   "source": [
    "---\n",
    "## 13. Conclusion\n",
    "\n",
    "In this notebook we demonstrated how to extract all useful components of CHIME/FRB VOEvents, focusing on `detection` and `susbequent` VOEvents. New subscribers should develop their event handlers using this as reference.\n",
    "\n",
    "## 14. Future Work\n",
    "\n",
    "As the Service matures, other VOEvent types will become available from CHIME/FRB, including several different `update` alerts.\n",
    "\n",
    "These post real-time VOEvents will have their own content, but the methods exemplified here will apply just the same. Nonetheless, the user can expect this tutorial to evolve accordingly."
   ]
  },
  {
   "cell_type": "code",
   "execution_count": null,
   "id": "c182c1f5",
   "metadata": {},
   "outputs": [],
   "source": []
  }
 ],
 "metadata": {
  "kernelspec": {
   "display_name": "Python 3",
   "language": "python",
   "name": "python3"
  },
  "language_info": {
   "codemirror_mode": {
    "name": "ipython",
    "version": 3
   },
   "file_extension": ".py",
   "mimetype": "text/x-python",
   "name": "python",
   "nbconvert_exporter": "python",
   "pygments_lexer": "ipython3",
   "version": "3.8.8"
  }
 },
 "nbformat": 4,
 "nbformat_minor": 5
}
